{
 "cells": [
  {
   "cell_type": "code",
   "execution_count": null,
   "metadata": {},
   "outputs": [],
   "source": [
    "from transformers import Trainer, TrainingArguments\n",
    "\n",
    "TrainingArguments = TrainingArguments(\n",
    "    output_dir = './results'\n",
    "    evaluation_strategy = \"epoch\"\n",
    "    num_train_epochs = 3\n",
    ")"
   ]
  }
 ],
 "metadata": {
  "language_info": {
   "name": "python"
  }
 },
 "nbformat": 4,
 "nbformat_minor": 2
}
